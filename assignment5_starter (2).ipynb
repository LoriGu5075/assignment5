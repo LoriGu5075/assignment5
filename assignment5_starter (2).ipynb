{
  "cells": [
    {
      "cell_type": "code",
      "execution_count": 30,
      "metadata": {
        "id": "dYJnndXqaKAp"
      },
      "outputs": [],
      "source": [
        "import numpy as np\n",
        "import pandas as pd"
      ]
    },
    {
      "cell_type": "code",
      "execution_count": 31,
      "metadata": {
        "id": "dos7dK4PaKAq"
      },
      "outputs": [],
      "source": [
        "# Define the KNN class\n",
        "class KNN:\n",
        "    def __init__(self, k=3, distance_metric='euclidean'):\n",
        "        self.k = k\n",
        "        self.distance_metric = distance_metric\n",
        "\n",
        "    def fit(self, X, y):\n",
        "        # Store the training data\n",
        "        self.X_train = X\n",
        "        self.y_train = y\n",
        "\n",
        "    def predict(self, X):\n",
        "        predictions = []\n",
        "        for x in X:\n",
        "            # Compute distances between x and all points in X_train\n",
        "            distances = [self.compute_distance(x, x_train) for x_train in self.X_train]\n",
        "            # Sort the distances and get the indices of k nearest neighbors\n",
        "            k_indices = np.argsort(distances)[:self.k]\n",
        "            # Get the labels of the k nearest samples\n",
        "            k_nearest_labels = [self.y_train[i] for i in k_indices]\n",
        "            # Majority vote to determine the predicted class\n",
        "            predictions.append(np.argmax(np.bincount(k_nearest_labels)))\n",
        "        return predictions\n",
        "\n",
        "    def compute_distance(self, X1, X2):\n",
        "        if self.distance_metric == 'euclidean':\n",
        "            return np.sqrt(np.sum((X1 - X2) ** 2))\n",
        "        elif self.distance_metric == 'manhattan':\n",
        "            return np.sum(np.abs(X1 - X2))\n",
        "        else:\n",
        "            raise ValueError(\"Unsupported distance metric\")"
      ]
    },
    {
      "cell_type": "code",
      "execution_count": 32,
      "metadata": {
        "id": "-WE1lANkaKAq"
      },
      "outputs": [],
      "source": [
        "# Define data preprocessing function\n",
        "def preprocess_data(train_path, test_path):\n",
        "    train_data = pd.read_csv(train_path)\n",
        "    test_data = pd.read_csv(test_path)\n",
        "\n",
        "    # Preprocess the data (dropping irrelevant columns, encoding, scaling)\n",
        "    # Assume the preprocessing function has been completed as shown earlier\n",
        "    from sklearn.preprocessing import StandardScaler, LabelEncoder\n",
        "\n",
        "    # Drop irrelevant columns\n",
        "    train_data = train_data.drop(columns=['id', 'CustomerId', 'Surname'])\n",
        "    test_data = test_data.drop(columns=['id', 'CustomerId', 'Surname'])\n",
        "\n",
        "    # Handle categorical variables\n",
        "    le_geography = LabelEncoder()\n",
        "    le_gender = LabelEncoder()\n",
        "\n",
        "    train_data['Geography'] = le_geography.fit_transform(train_data['Geography'])\n",
        "    train_data['Gender'] = le_gender.fit_transform(train_data['Gender'])\n",
        "\n",
        "    test_data['Geography'] = le_geography.transform(test_data['Geography'])\n",
        "    test_data['Gender'] = le_gender.transform(test_data['Gender'])\n",
        "\n",
        "    # Separate features and target variable for the train set\n",
        "    X_train = train_data.drop(columns=['Exited'])\n",
        "    y_train = train_data['Exited']\n",
        "\n",
        "    X_test = test_data\n",
        "\n",
        "    # Scale numerical features\n",
        "    scaler = StandardScaler()\n",
        "    X_train_scaled = scaler.fit_transform(X_train)\n",
        "    X_test_scaled = scaler.transform(X_test)\n",
        "\n",
        "    return X_train_scaled, y_train, X_test_scaled\n",
        "\n"
      ]
    },
    {
      "cell_type": "code",
      "execution_count": 33,
      "metadata": {
        "id": "Y7O0ikJRaKAr"
      },
      "outputs": [],
      "source": [
        "# Define cross-validation function\n",
        "def cross_validate(X, y, knn, n_splits=5):\n",
        "    fold_size = len(X) // n_splits\n",
        "    scores = []\n",
        "\n",
        "    for i in range(n_splits):\n",
        "        # Split the data into training and validation sets\n",
        "        X_val = X[i*fold_size:(i+1)*fold_size]\n",
        "        y_val = y[i*fold_size:(i+1)*fold_size]\n",
        "        X_train = np.concatenate([X[:i*fold_size], X[(i+1)*fold_size:]], axis=0)\n",
        "        y_train = np.concatenate([y[:i*fold_size], y[(i+1)*fold_size:]], axis=0)\n",
        "\n",
        "        # Train and evaluate the model\n",
        "        knn.fit(X_train, y_train)\n",
        "        predictions = knn.predict(X_val)\n",
        "        accuracy = np.mean(predictions == y_val)\n",
        "        scores.append(accuracy)\n",
        "\n",
        "    return scores\n"
      ]
    },
    {
      "cell_type": "code",
      "execution_count": 34,
      "metadata": {
        "colab": {
          "base_uri": "https://localhost:8080/"
        },
        "id": "txkLFoexaKAr",
        "outputId": "45476c43-098c-4df5-828c-34523c708478"
      },
      "outputs": [
        {
          "output_type": "stream",
          "name": "stdout",
          "text": [
            "Cross-validation scores: [0.87, 0.8723333333333333, 0.8673333333333333, 0.8816666666666667, 0.8703333333333333]\n"
          ]
        }
      ],
      "source": [
        "# Load and preprocess data\n",
        "X, y, X_test = preprocess_data('train.csv', 'test.csv')\n",
        "\n",
        "# Create and evaluate model\n",
        "knn = KNN(k=5, distance_metric='euclidean')\n",
        "\n",
        "# Perform cross-validation\n",
        "cv_scores = cross_validate(X, y, knn)\n",
        "\n",
        "print(\"Cross-validation scores:\", cv_scores)\n",
        "\n",
        "# Train on full dataset with optimal hyperparameters and make predictions on test set\n",
        "knn.fit(X, y)\n",
        "test_predictions = knn.predict(X_test)\n",
        "\n",
        "# Save test predictions\n",
        "pd.DataFrame({'id': pd.read_csv('test.csv')['id'], 'Exited': test_predictions}).to_csv('sample_submission.csv', index=False)\n"
      ]
    }
  ],
  "metadata": {
    "colab": {
      "provenance": []
    },
    "kernelspec": {
      "display_name": "cs506",
      "language": "python",
      "name": "python3"
    },
    "language_info": {
      "codemirror_mode": {
        "name": "ipython",
        "version": 3
      },
      "file_extension": ".py",
      "mimetype": "text/x-python",
      "name": "python",
      "nbconvert_exporter": "python",
      "pygments_lexer": "ipython3",
      "version": "3.10.15"
    }
  },
  "nbformat": 4,
  "nbformat_minor": 0
}